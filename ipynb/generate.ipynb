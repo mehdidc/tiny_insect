{
 "cells": [
  {
   "cell_type": "code",
   "execution_count": 1,
   "metadata": {
    "collapsed": false
   },
   "outputs": [],
   "source": [
    "from __future__ import print_function\n",
    "import os\n",
    "os.environ['CUDA_VISIBLE_DEVICES'] = '0'\n",
    "from skimage.io import imsave\n",
    "import argparse\n",
    "import os\n",
    "import random\n",
    "import torch\n",
    "import torch.nn as nn\n",
    "import torch.nn.parallel\n",
    "import torch.backends.cudnn as cudnn\n",
    "import torch.optim as optim\n",
    "import torch.utils.data\n",
    "import torchvision.datasets as dset\n",
    "import torchvision.transforms as transforms\n",
    "import torchvision.utils as vutils\n",
    "from torch.autograd import Variable\n",
    "from IPython.display import Image\n",
    "from skimage.io import imread\n",
    "from skimage.transform import resize\n",
    "import numpy as np\n",
    "import glob\n",
    "from loader import ImageFolder\n",
    "nz = 100\n",
    "nb_classes = 18\n",
    "ngf = 64\n",
    "ndf = 64\n",
    "nc = 3\n",
    "class _netG(nn.Module):\n",
    "    def __init__(self, ngpu):\n",
    "        super(_netG, self).__init__()\n",
    "        self.ngpu = ngpu\n",
    "        self.main = nn.Sequential(\n",
    "            # input is Z, going into a convolution\n",
    "            nn.ConvTranspose2d(     nz+nb_classes , ngf * 8, 4, 1, 0, bias=False),\n",
    "            nn.BatchNorm2d(ngf * 8),\n",
    "            nn.ReLU(True),\n",
    "            # state size. (ngf*8) x 4 x 4\n",
    "            nn.ConvTranspose2d(ngf * 8, ngf * 4, 4, 2, 1, bias=False),\n",
    "            nn.BatchNorm2d(ngf * 4),\n",
    "            nn.ReLU(True),\n",
    "            # state size. (ngf*4) x 8 x 8\n",
    "            nn.ConvTranspose2d(ngf * 4, ngf * 2, 4, 2, 1, bias=False),\n",
    "            nn.BatchNorm2d(ngf * 2),\n",
    "            nn.ReLU(True),\n",
    "            # state size. (ngf*2) x 16 x 16\n",
    "            nn.ConvTranspose2d(ngf * 2,     ngf, 4, 2, 1, bias=False),\n",
    "            nn.BatchNorm2d(ngf),\n",
    "            nn.ReLU(True),\n",
    "            \n",
    "            nn.ConvTranspose2d(ngf,     ngf, 4, 2, 1, bias=False),\n",
    "            nn.BatchNorm2d(ngf),\n",
    "            nn.ReLU(True),\n",
    "\n",
    "            # state size. (ngf) x 32 x 32\n",
    "            nn.ConvTranspose2d(    ngf,      nc, 4, 2, 1, bias=False),\n",
    "            nn.Tanh()\n",
    "            # state size. (nc) x 64 x 64\n",
    "        )\n",
    "    def forward(self, input):\n",
    "        gpu_ids = None\n",
    "        if isinstance(input.data, torch.cuda.FloatTensor) and self.ngpu > 1:\n",
    "            gpu_ids = range(self.ngpu)\n",
    "        return nn.parallel.data_parallel(self.main, input, gpu_ids)"
   ]
  },
  {
   "cell_type": "code",
   "execution_count": 2,
   "metadata": {
    "collapsed": false
   },
   "outputs": [
    {
     "ename": "ImportError",
     "evalue": "No module named 'batch_classifier'",
     "output_type": "error",
     "traceback": [
      "\u001b[0;31m---------------------------------------------------------------------------\u001b[0m",
      "\u001b[0;31mImportError\u001b[0m                               Traceback (most recent call last)",
      "\u001b[0;32m<ipython-input-2-09d3eaaf8986>\u001b[0m in \u001b[0;36m<module>\u001b[0;34m()\u001b[0m\n\u001b[1;32m      8\u001b[0m \u001b[0;34m\u001b[0m\u001b[0m\n\u001b[1;32m      9\u001b[0m \u001b[0msys\u001b[0m\u001b[0;34m.\u001b[0m\u001b[0mpath\u001b[0m\u001b[0;34m.\u001b[0m\u001b[0mappend\u001b[0m\u001b[0;34m(\u001b[0m\u001b[0;34m'pytorch_pretrained'\u001b[0m\u001b[0;34m)\u001b[0m\u001b[0;34m\u001b[0m\u001b[0m\n\u001b[0;32m---> 10\u001b[0;31m \u001b[0mclf\u001b[0m \u001b[0;34m=\u001b[0m \u001b[0mtorch\u001b[0m\u001b[0;34m.\u001b[0m\u001b[0mload\u001b[0m\u001b[0;34m(\u001b[0m\u001b[0;34m'pytorch_pretrained/clf-4cf42cbb-3c69-4d3f-86e1-c050330a7c7c.th'\u001b[0m\u001b[0;34m)\u001b[0m\u001b[0;34m\u001b[0m\u001b[0m\n\u001b[0m\u001b[1;32m     11\u001b[0m \u001b[0mclf\u001b[0m \u001b[0;34m=\u001b[0m \u001b[0mclf\u001b[0m\u001b[0;34m.\u001b[0m\u001b[0mcuda\u001b[0m\u001b[0;34m(\u001b[0m\u001b[0;34m)\u001b[0m\u001b[0;34m\u001b[0m\u001b[0m\n\u001b[1;32m     12\u001b[0m \u001b[0;34m\u001b[0m\u001b[0m\n",
      "\u001b[0;32m/home/mcherti/miniconda/envs/py3/lib/python3.5/site-packages/torch/serialization.py\u001b[0m in \u001b[0;36mload\u001b[0;34m(f, map_location, pickle_module)\u001b[0m\n\u001b[1;32m    227\u001b[0m         \u001b[0mf\u001b[0m \u001b[0;34m=\u001b[0m \u001b[0mopen\u001b[0m\u001b[0;34m(\u001b[0m\u001b[0mf\u001b[0m\u001b[0;34m,\u001b[0m \u001b[0;34m'rb'\u001b[0m\u001b[0;34m)\u001b[0m\u001b[0;34m\u001b[0m\u001b[0m\n\u001b[1;32m    228\u001b[0m     \u001b[0;32mtry\u001b[0m\u001b[0;34m:\u001b[0m\u001b[0;34m\u001b[0m\u001b[0m\n\u001b[0;32m--> 229\u001b[0;31m         \u001b[0;32mreturn\u001b[0m \u001b[0m_load\u001b[0m\u001b[0;34m(\u001b[0m\u001b[0mf\u001b[0m\u001b[0;34m,\u001b[0m \u001b[0mmap_location\u001b[0m\u001b[0;34m,\u001b[0m \u001b[0mpickle_module\u001b[0m\u001b[0;34m)\u001b[0m\u001b[0;34m\u001b[0m\u001b[0m\n\u001b[0m\u001b[1;32m    230\u001b[0m     \u001b[0;32mfinally\u001b[0m\u001b[0;34m:\u001b[0m\u001b[0;34m\u001b[0m\u001b[0m\n\u001b[1;32m    231\u001b[0m         \u001b[0;32mif\u001b[0m \u001b[0mnew_fd\u001b[0m\u001b[0;34m:\u001b[0m\u001b[0;34m\u001b[0m\u001b[0m\n",
      "\u001b[0;32m/home/mcherti/miniconda/envs/py3/lib/python3.5/site-packages/torch/serialization.py\u001b[0m in \u001b[0;36m_load\u001b[0;34m(f, map_location, pickle_module)\u001b[0m\n\u001b[1;32m    375\u001b[0m     \u001b[0munpickler\u001b[0m \u001b[0;34m=\u001b[0m \u001b[0mpickle_module\u001b[0m\u001b[0;34m.\u001b[0m\u001b[0mUnpickler\u001b[0m\u001b[0;34m(\u001b[0m\u001b[0mf\u001b[0m\u001b[0;34m)\u001b[0m\u001b[0;34m\u001b[0m\u001b[0m\n\u001b[1;32m    376\u001b[0m     \u001b[0munpickler\u001b[0m\u001b[0;34m.\u001b[0m\u001b[0mpersistent_load\u001b[0m \u001b[0;34m=\u001b[0m \u001b[0mpersistent_load\u001b[0m\u001b[0;34m\u001b[0m\u001b[0m\n\u001b[0;32m--> 377\u001b[0;31m     \u001b[0mresult\u001b[0m \u001b[0;34m=\u001b[0m \u001b[0munpickler\u001b[0m\u001b[0;34m.\u001b[0m\u001b[0mload\u001b[0m\u001b[0;34m(\u001b[0m\u001b[0;34m)\u001b[0m\u001b[0;34m\u001b[0m\u001b[0m\n\u001b[0m\u001b[1;32m    378\u001b[0m \u001b[0;34m\u001b[0m\u001b[0m\n\u001b[1;32m    379\u001b[0m     \u001b[0mdeserialized_storage_keys\u001b[0m \u001b[0;34m=\u001b[0m \u001b[0mpickle_module\u001b[0m\u001b[0;34m.\u001b[0m\u001b[0mload\u001b[0m\u001b[0;34m(\u001b[0m\u001b[0mf\u001b[0m\u001b[0;34m)\u001b[0m\u001b[0;34m\u001b[0m\u001b[0m\n",
      "\u001b[0;31mImportError\u001b[0m: No module named 'batch_classifier'"
     ]
    }
   ],
   "source": [
    "import sys\n",
    "def compute_objectness(v):\n",
    "        marginal = v.mean(dim=0)\n",
    "        marginal = marginal.repeat(v.size(0), 1)\n",
    "        score = v * torch.log(v / (marginal))\n",
    "        score = score.sum(dim=1).mean()\n",
    "        return score\n",
    "    \n",
    "sys.path.append('pytorch_pretrained')\n",
    "clf = torch.load('pytorch_pretrained/clf-4cf42cbb-3c69-4d3f-86e1-c050330a7c7c.th')\n",
    "clf = clf.cuda()\n",
    "\n",
    "clf_mean = np.array([0.485, 0.456, 0.406], dtype='float32')\n",
    "clf_mean = clf_mean[np.newaxis, :, np.newaxis, np.newaxis]\n",
    "clf_mean = torch.from_numpy(clf_mean)\n",
    "clf_mean = Variable(clf_mean)\n",
    "clf_mean = clf_mean.cuda()\n",
    "clf_std = np.array([0.229, 0.224, 0.225], dtype='float32')\n",
    "clf_std = clf_std[np.newaxis, :, np.newaxis, np.newaxis]\n",
    "clf_std = torch.from_numpy(clf_std)\n",
    "clf_std = Variable(clf_std)\n",
    "clf_std = clf_std.cuda()\n",
    "\n",
    "def norm(x):\n",
    "    x = (x + 1) / 2.\n",
    "    x += 1\n",
    "    x /= 2.\n",
    "    x -= clf_mean.repeat(x.size(0), 1, x.size(2), x.size(3))\n",
    "    x /= clf_std.repeat(x.size(0), 1, x.size(2), x.size(3))\n",
    "    return x"
   ]
  },
  {
   "cell_type": "code",
   "execution_count": null,
   "metadata": {
    "collapsed": false
   },
   "outputs": [],
   "source": [
    "G = _netG(ngpu=1)\n",
    "G.load_state_dict(torch.load('samples_128_cond_3/netG_epoch_7.pth'))"
   ]
  },
  {
   "cell_type": "code",
   "execution_count": null,
   "metadata": {
    "collapsed": false
   },
   "outputs": [],
   "source": [
    "\n",
    "# for mode random and random_same_for_each_class\n",
    "nb_rows = 10\n",
    "nb_cols = nb_classes\n",
    "\n",
    "# for mode interp_same_for_each_class\n",
    "nb_rows = nz\n",
    "nb_cols = 20\n",
    "CL = 6\n",
    "\n",
    "#mode = 'random'\n",
    "mode = 'interp_same_for_each_class'\n",
    "if mode == 'random':\n",
    "    fixed_z = torch.randn   (nb_rows, nb_cols,        nz, 1, 1)\n",
    "    fixed_z = fixed_z.view(nb_rows * nb_cols, nz, 1, 1)\n",
    "elif mode == 'random_same_for_each_class':\n",
    "    fixed_z = torch.randn   (nb_rows, 1,        nz, 1, 1)\n",
    "    fixed_z = fixed_z.repeat(1,      nb_cols, 1, 1, 1)\n",
    "    fixed_z = fixed_z.view(nb_rows * nb_cols, nz, 1, 1)\n",
    "elif mode == 'interp_same_for_each_class':\n",
    "    vals = torch.linspace(-3, 3, nb_cols)\n",
    "    fixed_z = torch.zeros(nb_rows, nb_cols, nz, 1, 1)\n",
    "    for i in range(nb_rows):\n",
    "        fixed_z[i, :, i, 0, 0] = vals\n",
    "    fixed_z = fixed_z.view(nb_rows * nb_cols, nz, 1, 1)\n",
    "    print(fixed_z.size())\n",
    "    \n",
    "fixed_onehot = torch.zeros(nb_rows, nb_cols, nb_classes, 1, 1)\n",
    "fixed_onehot = fixed_onehot.view(nb_rows * nb_cols, nb_classes, 1, 1)\n",
    "\n",
    "for i in range(fixed_onehot.size(0)):\n",
    "    cl = i % nb_classes\n",
    "    if mode == 'interp_same_for_each_class':\n",
    "        cl = CL\n",
    "    fixed_onehot[i, cl] = 1\n",
    "fixed_noise = torch.cat((fixed_z, fixed_onehot), 1)\n",
    "#fixed_noise = Variable(fixed_z)\n",
    "fixed_noise = Variable(fixed_noise)"
   ]
  },
  {
   "cell_type": "code",
   "execution_count": null,
   "metadata": {
    "collapsed": false
   },
   "outputs": [],
   "source": [
    "fake = G(fixed_noise)\n",
    "#fake = fake.cuda()\n",
    "#pr = nn.Softmax()(clf(norm(fake)))\n",
    "#obj = compute_objectness(pr)\n",
    "#print(obj)\n",
    "#pr_max = pr.data.max(1)[1][:, 0].cpu()\n",
    "#fo = fixed_onehot.max(1)[1][:, 0, 0, 0]\n",
    "#print(torch.mean((pr_max==fo).float()))\n",
    "im = (fake.data + 1) / 2.\n",
    "vutils.save_image(im, 'samples.png', nrow=nb_cols)"
   ]
  },
  {
   "cell_type": "code",
   "execution_count": null,
   "metadata": {
    "collapsed": false
   },
   "outputs": [],
   "source": [
    "Image('samples.png', width=500, height=500)"
   ]
  },
  {
   "cell_type": "code",
   "execution_count": null,
   "metadata": {
    "collapsed": false
   },
   "outputs": [],
   "source": [
    "from ipywidgets import FloatSlider, IntSlider\n",
    "from ipywidgets import interact, interactive, fixed, interact_manual\n",
    "from collections import OrderedDict\n",
    "\n",
    "from IPython.display import display,clear_output\n",
    "from ipywidgets import widgets\n",
    "from collections import OrderedDict\n",
    "\n",
    "%matplotlib inline\n",
    "import matplotlib.pyplot as plt\n",
    "\n",
    "def update(w):\n",
    "    clear_output()\n",
    "    if 'cl' in w:\n",
    "        cl = int(w['cl'].value)\n",
    "    else:\n",
    "        cl = None\n",
    "    z = [w[str(i)].value for i in range(nz)]\n",
    "    z = np.array(z)\n",
    "    z = z[np.newaxis, :, np.newaxis, np.newaxis]\n",
    "    z = z.astype(np.float32)\n",
    "    z = torch.from_numpy(z)\n",
    "    z = z.repeat(32, 1, 1, 1)\n",
    "    if cl is not None:\n",
    "        print(cl)\n",
    "        onehot = torch.zeros(z.size(0), nb_classes)\n",
    "        onehot[:, cl] = 1\n",
    "        z = torch.cat((z, onehot), 1)\n",
    "    z = Variable(z)\n",
    "    fake = G(z)\n",
    "    im = (fake.data + 1) / 2.\n",
    "    im = im.cpu().numpy()\n",
    "    im = im[0]\n",
    "    im = im.transpose((1, 2, 0))\n",
    "    plt.imshow(im)\n",
    "\n",
    "w = OrderedDict()\n",
    "for i in range(nz):\n",
    "    w[str(i)] = FloatSlider(min=-4, max=4, step=0.1, value=0)\n",
    "w['cl'] = IntSlider(min=0, max=nb_classes - 1, step=1, value=0)\n",
    "\n",
    "for widget in w.values():\n",
    "    widget.observe(lambda change:update(w),names='value',type='change')\n",
    "\n",
    "vbox = widgets.VBox(children=list(w.values()))\n",
    "display(vbox)\n",
    "#interact(slow_function, **widgets)"
   ]
  }
 ],
 "metadata": {
  "anaconda-cloud": {},
  "kernelspec": {
   "display_name": "Python [conda env:py3]",
   "language": "python",
   "name": "conda-env-py3-py"
  },
  "language_info": {
   "codemirror_mode": {
    "name": "ipython",
    "version": 3
   },
   "file_extension": ".py",
   "mimetype": "text/x-python",
   "name": "python",
   "nbconvert_exporter": "python",
   "pygments_lexer": "ipython3",
   "version": "3.5.2"
  }
 },
 "nbformat": 4,
 "nbformat_minor": 1
}
