{
 "cells": [
  {
   "cell_type": "code",
   "execution_count": null,
   "metadata": {
    "collapsed": false
   },
   "outputs": [],
   "source": [
    "%matplotlib inline\n",
    "import pandas as pd\n",
    "import glob\n",
    "import os\n",
    "import numpy as np\n",
    "import json\n",
    "from bokeh.plotting import show, output_notebook, figure, ColumnDataSource\n",
    "from bokeh.charts import Scatter\n",
    "from bokeh.models import HoverTool, BoxSelectTool\n",
    "from bokeh.models import BoxZoomTool\n",
    "from lightjob.cli import load_db\n",
    "from lightjob.db import SUCCESS\n",
    "\n",
    "def moving(l):\n",
    "    v = 0.\n",
    "    lm = []\n",
    "    for val in l:\n",
    "        v = v * 0.9999 + val * 0.0001\n",
    "        lm.append(v)\n",
    "    return lm\n",
    "output_notebook()\n",
    "\n",
    "def get_df():\n",
    "    db = load_db('../students/.lightjob')\n",
    "    rows = []\n",
    "    jobs = db.jobs_with(state=SUCCESS)\n",
    "    for job in jobs:\n",
    "        folder = '../students/jobs/{}'.format(job['summary'])\n",
    "        stats = os.path.join(folder, 'stats.csv')\n",
    "        if not os.path.exists(stats):\n",
    "            continue\n",
    "        df_stats = pd.read_csv(stats)\n",
    "        df_valid = pd.read_csv(os.path.join(folder, 'valid.csv'))\n",
    "        df_valid = df_valid[df_valid.columns[0]].values\n",
    "        hypers = job['content']['hypers']\n",
    "        start_time = job['life'][0]['dt']\n",
    "        end_time = job['life'][0]['dt']    \n",
    "        acc = moving(df_stats['acc'])\n",
    "        row = job['content'].copy()\n",
    "        del row['hypers']\n",
    "        row.update(hypers)\n",
    "\n",
    "        row['train_acc'] = acc[::1250]\n",
    "        row['valid_acc'] = df_valid.tolist()\n",
    "        row['max_valid_acc'] = float(df_valid.max())\n",
    "        row['last_train_acc'] = row['train_acc'][-1]\n",
    "        row['max_train_acc'] = np.max(row['train_acc'])\n",
    "        row['id'] = os.path.basename(folder)\n",
    "        row['nb_updates'] = len(df_stats)\n",
    "        row['start_time'] = start_time\n",
    "        row['end_time'] = end_time\n",
    "        row['n_epochs'] = (len(df_stats)*32)/40000\n",
    "        rows.append(row)\n",
    "        \n",
    "    df = pd.DataFrame(rows)\n",
    "    return df\n"
   ]
  },
  {
   "cell_type": "code",
   "execution_count": null,
   "metadata": {
    "collapsed": false
   },
   "outputs": [],
   "source": [
    "df = get_df()"
   ]
  },
  {
   "cell_type": "code",
   "execution_count": null,
   "metadata": {
    "collapsed": false
   },
   "outputs": [],
   "source": [
    "df.sort_values(by='max_valid_acc', ascending=False)"
   ]
  },
  {
   "cell_type": "code",
   "execution_count": null,
   "metadata": {
    "collapsed": false
   },
   "outputs": [],
   "source": [
    "hover = HoverTool(\n",
    "    tooltips=[\n",
    "        ('valid_acc', '@max_valid_acc'),\n",
    "        ('train_acc', '@last_train_acc')\n",
    "    ]\n",
    ")\n",
    "p = figure(tools=[hover])\n",
    "p.circle('fc', 'max_valid_acc', source=ColumnDataSource(df))\n",
    "show(p)"
   ]
  },
  {
   "cell_type": "code",
   "execution_count": null,
   "metadata": {
    "collapsed": false
   },
   "outputs": [],
   "source": [
    "from bokeh.charts import Bar, output_file, show\n",
    "p = Bar(df, 'data_source', values='max_valid_acc', agg='median')\n",
    "p.legend.location = (0,0)\n",
    "show(p)"
   ]
  },
  {
   "cell_type": "code",
   "execution_count": null,
   "metadata": {
    "collapsed": false
   },
   "outputs": [],
   "source": [
    "best = df.sort_values(by='max_valid_acc', ascending=False).iloc[0].to_dict()\n",
    "print(best['data_source'])\n",
    "p = figure(tools=[HoverTool(), BoxZoomTool()])\n",
    "e = np.arange(len(best['train_acc']))\n",
    "p.line(e, best['train_acc'], color='blue', legend='train acc')\n",
    "p.line(e, best['valid_acc'], color='orange', legend='valid acc')\n",
    "p.legend.location = 'bottom_right'\n",
    "show(p)"
   ]
  },
  {
   "cell_type": "code",
   "execution_count": null,
   "metadata": {
    "collapsed": true
   },
   "outputs": [],
   "source": []
  }
 ],
 "metadata": {
  "anaconda-cloud": {},
  "kernelspec": {
   "display_name": "Python [conda env:py3]",
   "language": "python",
   "name": "conda-env-py3-py"
  },
  "language_info": {
   "codemirror_mode": {
    "name": "ipython",
    "version": 3
   },
   "file_extension": ".py",
   "mimetype": "text/x-python",
   "name": "python",
   "nbconvert_exporter": "python",
   "pygments_lexer": "ipython3",
   "version": "3.5.2"
  }
 },
 "nbformat": 4,
 "nbformat_minor": 1
}
